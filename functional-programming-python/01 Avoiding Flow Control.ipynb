{
 "cells": [
  {
   "cell_type": "code",
   "execution_count": null,
   "metadata": {},
   "outputs": [],
   "source": [
    "a1 = ('red', 'green', 'blue')\n",
    "for i, s in enumerate(a):\n",
    "    print(i, s)\n"
   ]
  },
  {
   "cell_type": "code",
   "execution_count": null,
   "metadata": {},
   "outputs": [],
   "source": [
    "import functools, operator\n",
    "a = [2, 3, 5, 2]\n",
    "print(functools.reduce(mul, a)) # 60"
   ]
  },
  {
   "cell_type": "code",
   "execution_count": null,
   "metadata": {},
   "outputs": [],
   "source": [
    "from expression import pipe\n",
    "\n",
    "v = 1\n",
    "fn = lambda x: x + 1\n",
    "gn = lambda x: x * 2\n",
    "\n",
    "assert pipe(v, fn, gn) == gn(fn(v))"
   ]
  },
  {
   "cell_type": "code",
   "execution_count": null,
   "metadata": {},
   "outputs": [],
   "source": [
    "from expression import Some\n",
    "\n",
    "v = Some(1)\n",
    "fn = lambda x: x.map(lambda y: y + 1)\n",
    "gn = lambda x: x.map(lambda y: y * 2)\n",
    "\n",
    "assert v.pipe(fn, gn) == gn(fn(v))"
   ]
  },
  {
   "cell_type": "code",
   "execution_count": null,
   "metadata": {},
   "outputs": [],
   "source": [
    "from expression import Some, Nothing, Option\n",
    "\n",
    "def keep_positive(a: int) -> Option[int]:\n",
    "    if a > 0:\n",
    "        return Some(a)\n",
    "    else:\n",
    "        return Nothing\n",
    "\n",
    "print(keep_positive(-1))"
   ]
  },
  {
   "cell_type": "code",
   "execution_count": null,
   "metadata": {},
   "outputs": [],
   "source": [
    "from expression import Option, Some\n",
    "\n",
    "def exists(x : Option[int]) -> bool:\n",
    "    match x:\n",
    "        case Some(_):\n",
    "            return True\n",
    "    return False\n",
    "\n",
    "print(exists(Nothing))"
   ]
  },
  {
   "cell_type": "code",
   "execution_count": null,
   "metadata": {},
   "outputs": [],
   "source": [
    "from expression import effect, Ok, Result\n",
    "\n",
    "@effect.result[int, Exception]()\n",
    "def fn():\n",
    "    x = yield from Ok(42)\n",
    "    y = yield from Ok(10)\n",
    "    return x + y\n",
    "\n",
    "xs = fn()\n",
    "assert isinstance(xs, Result)"
   ]
  },
  {
   "cell_type": "code",
   "execution_count": null,
   "metadata": {},
   "outputs": [],
   "source": [
    "def f1(first,last):\n",
    "    return first, last \n",
    "def f2(first, last):\n",
    "    return first, last \n",
    "def f3(x):\n",
    "    return x\n",
    "do_it = lambda f, *args: f(*args)\n",
    "do_all= lambda f, *args: (list(map(fn, *args)) for fn in f)\n",
    "#list(map(do_it, [f1, f2, f3], ['Dennis','Tanja', 'x']))\n",
    "list(do_all([f1, f2],['Dennis','Kleine'], ['Tanja','Bierschneider']))"
   ]
  },
  {
   "cell_type": "code",
   "execution_count": 4,
   "metadata": {},
   "outputs": [
    {
     "name": "stdout",
     "output_type": "stream",
     "text": [
      "Bernard: 16.04810766596347\n",
      "Martijn Pieters: 22.49490708403755\n",
      "timgeb: 16.038729915977456\n",
      "Reza: 16.006341250031255\n",
      "Phinet: 17.089979416981805\n",
      "Phil: 23.22231824998744\n",
      "Dennis: 37.39007620798657\n",
      "Dennis2: 18.058866583975032\n"
     ]
    }
   ],
   "source": [
    "import random\n",
    "import timeit\n",
    "\n",
    "def check_size():\n",
    "    if random.random() < 0.25: return \"BIG\"\n",
    "\n",
    "def check_color():\n",
    "    if random.random() < 0.25: return \"RED\"\n",
    "\n",
    "def check_tone():\n",
    "    if random.random() < 0.25: return \"SOFT\"\n",
    "\n",
    "def check_flavor():\n",
    "    if random.random() < 0.25: return \"SWEET\"\n",
    "\n",
    "def check_all_conditions_Bernard():\n",
    "    x = check_size()\n",
    "    if x:\n",
    "        return x\n",
    "\n",
    "    x = check_color()\n",
    "    if x:\n",
    "        return x\n",
    "\n",
    "    x = check_tone()\n",
    "    if x:\n",
    "        return x\n",
    "\n",
    "    x = check_flavor()\n",
    "    if x:\n",
    "        return x\n",
    "\n",
    "    return None\n",
    "\n",
    "def check_all_Martijn_Pieters():\n",
    "    conditions = (check_size, check_color, check_tone, check_flavor)\n",
    "    for condition in conditions:\n",
    "        result = condition()\n",
    "        if result:\n",
    "            return result\n",
    "\n",
    "def check_all_conditions_timgeb():\n",
    "    return check_size() or check_color() or check_tone() or check_flavor()\n",
    "\n",
    "def check_all_conditions_Reza():\n",
    "    return check_size() or check_color() or check_tone() or check_flavor()\n",
    "\n",
    "def check_all_conditions_Phinet():\n",
    "    x = check_size()\n",
    "    x = x if x else check_color()\n",
    "    x = x if x else check_tone()\n",
    "    x = x if x else check_flavor()\n",
    "    return x if x else None\n",
    "\n",
    "def all_conditions():\n",
    "    yield check_size()\n",
    "    yield check_color()\n",
    "    yield check_tone()\n",
    "    yield check_flavor()\n",
    "\n",
    "def check_all_conditions_Phil_Frost():\n",
    "    for condition in all_conditions():\n",
    "        if condition:\n",
    "            return condition\n",
    "\n",
    "def check_all_conditions_Dennis():\n",
    "    conditions = (check_size, check_color, check_tone, check_flavor)\n",
    "    return any(condition() for condition in conditions)\n",
    "\n",
    "def check_all_conditions_Dennis2():   \n",
    "    return (True if check_size() == \"BIG\" else\n",
    "            True if check_color() == \"RED\" else\n",
    "            True if check_tone() == \"SOFT\" else\n",
    "            True if check_flavor() == \"SWEET\" else\n",
    "            False)\n",
    "\n",
    "\n",
    "def main():\n",
    "    num = 100000000\n",
    "    random.seed(20)\n",
    "    print(\"Bernard:\", timeit.timeit('check_all_conditions_Bernard()', 'from __main__ import check_all_conditions_Bernard', number=num))\n",
    "    random.seed(20)\n",
    "    print(\"Martijn Pieters:\", timeit.timeit('check_all_Martijn_Pieters()', 'from __main__ import check_all_Martijn_Pieters', number=num))\n",
    "    random.seed(20)\n",
    "    print(\"timgeb:\", timeit.timeit('check_all_conditions_timgeb()', 'from __main__ import check_all_conditions_timgeb', number=num))\n",
    "    random.seed(20)\n",
    "    print(\"Reza:\", timeit.timeit('check_all_conditions_Reza()', 'from __main__ import check_all_conditions_Reza', number=num))\n",
    "    random.seed(20)\n",
    "    print(\"Phinet:\", timeit.timeit('check_all_conditions_Phinet()', 'from __main__ import check_all_conditions_Phinet', number=num))\n",
    "    random.seed(20)\n",
    "    print(\"Phil:\", timeit.timeit('check_all_conditions_Phil_Frost()', 'from __main__ import check_all_conditions_Phil_Frost', number=num))\n",
    "    random.seed(20)\n",
    "    print(\"Dennis:\", timeit.timeit('check_all_conditions_Dennis()', 'from __main__ import check_all_conditions_Dennis', number=num))\n",
    "    random.seed(20)\n",
    "    print(\"Dennis2:\", timeit.timeit('check_all_conditions_Dennis2()', 'from __main__ import check_all_conditions_Dennis2', number=num))\n",
    "\n",
    "if __name__ == '__main__':\n",
    "    main()\n",
    "\n"
   ]
  },
  {
   "cell_type": "code",
   "execution_count": null,
   "metadata": {},
   "outputs": [],
   "source": []
  }
 ],
 "metadata": {
  "kernelspec": {
   "display_name": ".venv",
   "language": "python",
   "name": "python3"
  },
  "language_info": {
   "codemirror_mode": {
    "name": "ipython",
    "version": 3
   },
   "file_extension": ".py",
   "mimetype": "text/x-python",
   "name": "python",
   "nbconvert_exporter": "python",
   "pygments_lexer": "ipython3",
   "version": "3.12.3"
  }
 },
 "nbformat": 4,
 "nbformat_minor": 2
}

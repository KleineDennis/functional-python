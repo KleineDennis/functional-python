{
 "cells": [
  {
   "cell_type": "code",
   "execution_count": null,
   "metadata": {},
   "outputs": [],
   "source": [
    "a: tuple[str,str,str] = ('red', 'green', 'blue')\n",
    "for i, s in enumerate(a):\n",
    "    print(i, s)"
   ]
  },
  {
   "cell_type": "code",
   "execution_count": null,
   "metadata": {},
   "outputs": [],
   "source": [
    "first = ('John', 'Anne', 'Mary', 'Peter')\n",
    "last = ('Brown', 'Smith', 'Jones', 'Cooper')\n",
    "age = (25, 33, 41, 28)\n",
    "for f, l, a in zip(first, last, age):\n",
    "    print(f, l, a)"
   ]
  },
  {
   "cell_type": "code",
   "execution_count": null,
   "metadata": {},
   "outputs": [],
   "source": [
    "a = (10, 11, 12, 13)\n",
    "b = (20, 21, 22, 23)\n",
    "c = (30, 31, 32, 33)\n",
    "z = zip(a,b,c)\n",
    "print(list(z))\n",
    "\n",
    "for t in zip(a, b, c):\n",
    "    print(t)\n",
    "\n",
    "for x, y, z in zip(a, b, c):\n",
    "    print(x, y, z)    "
   ]
  },
  {
   "cell_type": "code",
   "execution_count": null,
   "metadata": {},
   "outputs": [],
   "source": [
    "a = (10, 11, 12, 13)\n",
    "b = (20, 21, 22, 23)\n",
    "c = (30, 31, 32, 33)\n",
    "z = zip(a, b, c)\n",
    "print(z)\n",
    "\n",
    "restored = zip(*z)\n",
    "print(restored)\n",
    "\n",
    "print(list(restored))"
   ]
  },
  {
   "cell_type": "code",
   "execution_count": null,
   "metadata": {},
   "outputs": [],
   "source": [
    "a = [3, 2, 1, 6, 7, 0]\n",
    "f = filter(lambda x: x > 2, a)\n",
    "print(list(f))"
   ]
  },
  {
   "cell_type": "code",
   "execution_count": null,
   "metadata": {},
   "outputs": [],
   "source": [
    "strings = ('red', '', 'green', '', 'blue')\n",
    "for s in filter(len, strings):\n",
    "    print(s)"
   ]
  },
  {
   "cell_type": "code",
   "execution_count": null,
   "metadata": {},
   "outputs": [],
   "source": [
    "import operator\n",
    "\n",
    "a = [20, 30, 40]\n",
    "b = range(3)\n",
    "m = map(operator.sub, a, b)\n",
    "\n",
    "print(list(m))"
   ]
  },
  {
   "cell_type": "code",
   "execution_count": null,
   "metadata": {},
   "outputs": [],
   "source": [
    "for i in reversed(range(10)):\n",
    "    print(i)"
   ]
  },
  {
   "cell_type": "code",
   "execution_count": 41,
   "metadata": {},
   "outputs": [
    {
     "name": "stdout",
     "output_type": "stream",
     "text": [
      "[7, 3, 1]\n"
     ]
    }
   ],
   "source": [
    "k = [1, 3, 7]\n",
    "k.reverse()\n",
    "print(k)"
   ]
  },
  {
   "cell_type": "code",
   "execution_count": 58,
   "metadata": {},
   "outputs": [
    {
     "name": "stdout",
     "output_type": "stream",
     "text": [
      "Brown, John - age 25\n",
      "Smith, Anne - age 33\n",
      "Jones, Mary - age 41\n",
      "Cooper, Peter - age 28\n"
     ]
    },
    {
     "data": {
      "text/plain": [
       "[None, None, None, None]"
      ]
     },
     "execution_count": 58,
     "metadata": {},
     "output_type": "execute_result"
    }
   ],
   "source": [
    "def format_person(first, last, age):\n",
    "    return '{}, {} - age {}'.format(last, first, age)\n",
    "first = ('John', 'Anne', 'Mary', 'Peter')\n",
    "last = ('Brown', 'Smith', 'Jones', 'Cooper')\n",
    "age = (25, 33, 41, 28)\n",
    "m = map(format_person, first, last, age)\n",
    "list(map(print, m)) # Prints the result"
   ]
  },
  {
   "cell_type": "code",
   "execution_count": 60,
   "metadata": {},
   "outputs": [
    {
     "name": "stdout",
     "output_type": "stream",
     "text": [
      "['Brown, John - age 25', 'Smith, Anne - age 33', 'Jones, Mary - age 41', 'Cooper, Peter - age 28']\n"
     ]
    }
   ],
   "source": [
    "people = [('John', 'Brown', 25),\n",
    "('Anne', 'Smith', 33),\n",
    "('Mary', 'Jones', 41),\n",
    "('Peter', 'Cooper', 28)]\n",
    "\n",
    "m = map(format_person, *zip(*people))\n",
    "print(list(m))\n",
    "#list(map(print, m))"
   ]
  },
  {
   "cell_type": "code",
   "execution_count": null,
   "metadata": {},
   "outputs": [],
   "source": []
  }
 ],
 "metadata": {
  "kernelspec": {
   "display_name": ".venv",
   "language": "python",
   "name": "python3"
  },
  "language_info": {
   "codemirror_mode": {
    "name": "ipython",
    "version": 3
   },
   "file_extension": ".py",
   "mimetype": "text/x-python",
   "name": "python",
   "nbconvert_exporter": "python",
   "pygments_lexer": "ipython3",
   "version": "3.12.3"
  }
 },
 "nbformat": 4,
 "nbformat_minor": 2
}

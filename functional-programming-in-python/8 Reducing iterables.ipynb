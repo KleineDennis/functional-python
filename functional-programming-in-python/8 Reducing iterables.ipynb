{
 "cells": [
  {
   "cell_type": "code",
   "execution_count": 2,
   "metadata": {},
   "outputs": [
    {
     "name": "stdout",
     "output_type": "stream",
     "text": [
      "2 4 0 0 5 3\n"
     ]
    }
   ],
   "source": [
    "a = [[2, 4], [0, 0], [5, 3]]\n",
    "print(*sum(a, [])) # [2, 4, 0, 0, 5, 3]"
   ]
  },
  {
   "cell_type": "code",
   "execution_count": 5,
   "metadata": {},
   "outputs": [
    {
     "name": "stdout",
     "output_type": "stream",
     "text": [
      "abcpqrxyz\n"
     ]
    }
   ],
   "source": [
    "a = ['abc', 'pqr', 'xyz']\n",
    "s = ''.join(a)\n",
    "print(s)"
   ]
  },
  {
   "cell_type": "code",
   "execution_count": 24,
   "metadata": {},
   "outputs": [
    {
     "name": "stdout",
     "output_type": "stream",
     "text": [
      "[3, 3, 2, 6, 6, 6, 2, 2, 6, 5, 7, 8, 7, 4, 7, 1, 3, 2, 6, 2, 1, 5, 6, 2, 5, 4, 3, 2, 5, 2, 7, 4, 4, 5, 3, 6, 2, 5]\n",
      "38\n",
      "['joy', 'of', 'coding', 'Python', 'should', 'be', 'in', 'seeing', 'short', 'concise', 'readable', 'classes', 'that', 'express', 'lot', 'of', 'action', 'in', 'small', 'amount', 'of', 'clear', 'code', 'not', 'in', 'reams', 'of', 'trivial', 'code', 'that', 'bores', 'reader', 'to', 'death']\n",
      "4.4411764705882355\n"
     ]
    }
   ],
   "source": [
    "strings = ['the', 'joy', 'of', 'coding', 'Python', 'should',\n",
    "'be', 'in', 'seeing', 'short', 'concise',\n",
    "'readable', 'classes', 'that', 'express', 'a',\n",
    "'lot', 'of', 'action', 'in', 'a', 'small', 'amount',\n",
    "'of', 'clear', 'code', 'not', 'in', 'reams', 'of',\n",
    "'trivial', 'code', 'that', 'bores', 'the', 'reader',\n",
    "'to', 'death']\n",
    "\n",
    "lengths = map(len, strings)\n",
    "print(list(lengths))\n",
    "print(len(strings))\n",
    "average = sum(lengths)/len(strings)\n",
    "average = sum(map(len, strings))/len(strings)\n",
    "s = list(filter(lambda x : x not in ('a', 'the'), strings))\n",
    "average = sum(map(len, s))/len(s)\n",
    "print(average)"
   ]
  },
  {
   "cell_type": "code",
   "execution_count": 20,
   "metadata": {},
   "outputs": [
    {
     "name": "stdout",
     "output_type": "stream",
     "text": [
      "3.0\n"
     ]
    }
   ],
   "source": [
    "def sumcount(it):\n",
    "    sum = 0\n",
    "    count = 0\n",
    "    for x in it:\n",
    "        sum += x\n",
    "        count += 1\n",
    "        return sum, count\n",
    "s = filter(lambda x : x not in ('a', 'the'), strings)\n",
    "total, count = sumcount(map(len, s))\n",
    "average = total/count\n",
    "print(average)"
   ]
  },
  {
   "cell_type": "code",
   "execution_count": 23,
   "metadata": {},
   "outputs": [
    {
     "name": "stdout",
     "output_type": "stream",
     "text": [
      "[(1, 3), (2, 2), (3, 6), (4, 6), (5, 6), (6, 2), (7, 2), (8, 6), (9, 5), (10, 7), (11, 8), (12, 7), (13, 4), (14, 7), (15, 3), (16, 2), (17, 6), (18, 2), (19, 5), (20, 6), (21, 2), (22, 5), (23, 4), (24, 3), (25, 2), (26, 5), (27, 2), (28, 7), (29, 4), (30, 4), (31, 5), (32, 6), (33, 2), (34, 5)]\n"
     ]
    }
   ],
   "source": [
    "s = filter(lambda x : x not in ('a', 'the'), strings)\n",
    "m = map(len, s)\n",
    "e = enumerate(m, 1)\n",
    "print(list(e))"
   ]
  },
  {
   "cell_type": "code",
   "execution_count": 25,
   "metadata": {},
   "outputs": [
    {
     "name": "stdout",
     "output_type": "stream",
     "text": [
      "4.4411764705882355\n"
     ]
    }
   ],
   "source": [
    "import functools\n",
    "def opsumcount(a, b):\n",
    "    return(b[0], a[1] + b[1])\n",
    "\n",
    "s = filter(lambda x : x not in ('a', 'the'), strings)\n",
    "m = map(len, s)\n",
    "length, total = functools.reduce(opsumcount, enumerate(m, 1))\n",
    "average = total/length\n",
    "print(average)"
   ]
  },
  {
   "cell_type": "code",
   "execution_count": null,
   "metadata": {},
   "outputs": [],
   "source": []
  }
 ],
 "metadata": {
  "kernelspec": {
   "display_name": ".venv",
   "language": "python",
   "name": "python3"
  },
  "language_info": {
   "codemirror_mode": {
    "name": "ipython",
    "version": 3
   },
   "file_extension": ".py",
   "mimetype": "text/x-python",
   "name": "python",
   "nbconvert_exporter": "python",
   "pygments_lexer": "ipython3",
   "version": "3.12.3"
  }
 },
 "nbformat": 4,
 "nbformat_minor": 2
}

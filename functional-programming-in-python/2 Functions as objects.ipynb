{
 "cells": [
  {
   "cell_type": "code",
   "execution_count": 2,
   "metadata": {},
   "outputs": [
    {
     "data": {
      "text/plain": [
       "7.62"
      ]
     },
     "execution_count": 2,
     "metadata": {},
     "output_type": "execute_result"
    }
   ],
   "source": [
    "def inch2cm(x):\n",
    "    return x*2.54\n",
    "\n",
    "def c2f(x):\n",
    "    return x*1.8 + 32\n",
    "\n",
    "def convert(f, x):\n",
    "    y = f(x)\n",
    "    return y\n",
    "\n",
    "def i2text(x):\n",
    "    text = ['zero', 'one', 'two', 'three']\n",
    "    return text[x]\n",
    "\n",
    "convert(inch2cm, 3)"
   ]
  },
  {
   "cell_type": "code",
   "execution_count": 3,
   "metadata": {},
   "outputs": [
    {
     "name": "stdout",
     "output_type": "stream",
     "text": [
      "[(2, 2), (1, 7), (4, 2), (3, 3), (5, 2)]\n"
     ]
    }
   ],
   "source": [
    "# def area(x):\n",
    "#     return x[0]*x[1]\n",
    "\n",
    "area = lambda x: x[0]*x[1]\n",
    "\n",
    "p = [(3, 3), (4, 2), (2, 2), (5, 2), (1, 7)]\n",
    "#q = sorted(p, key=area)\n",
    "#q = sorted(p, key=lambda x: x[0]*x[1])\n",
    "q = sorted(p, key=area)\n",
    "print(q)"
   ]
  },
  {
   "cell_type": "code",
   "execution_count": 4,
   "metadata": {},
   "outputs": [
    {
     "name": "stdout",
     "output_type": "stream",
     "text": [
      "8\n"
     ]
    }
   ],
   "source": [
    "from functools import partial\n",
    "import operator\n",
    "\n",
    "def add(x,y):\n",
    "    return x+y\n",
    "\n",
    "f = partial(operator.add, 3)\n",
    "print(f(5))\n"
   ]
  },
  {
   "cell_type": "code",
   "execution_count": 5,
   "metadata": {},
   "outputs": [
    {
     "name": "stdout",
     "output_type": "stream",
     "text": [
      ",2,3,4\n"
     ]
    }
   ],
   "source": [
    "def tail(x):\n",
    "    return x[1:]\n",
    "t = \"1,2,3,4\"\n",
    "t = tail(t)\n",
    "print(t) \n"
   ]
  },
  {
   "cell_type": "code",
   "execution_count": 6,
   "metadata": {},
   "outputs": [
    {
     "name": "stdout",
     "output_type": "stream",
     "text": [
      "(True, True, True, True, True, False)\n"
     ]
    }
   ],
   "source": [
    "v = (1,2,3,4,5,'t')\n",
    "u = tuple[bool](str(x).isdigit() for x in v)\n",
    "print(u)"
   ]
  },
  {
   "cell_type": "code",
   "execution_count": 7,
   "metadata": {},
   "outputs": [
    {
     "name": "stdout",
     "output_type": "stream",
     "text": [
      "(True, True, True, True, True, False)\n"
     ]
    }
   ],
   "source": [
    "v = (1,2,3,4,5,'t')\n",
    "def decode(x) -> bool:\n",
    "    return str(x).isdigit()\n",
    "\n",
    "f = lambda x: str(x).isdigit()\n",
    "\n",
    "u = tuple(map(f, v))\n",
    "print(u)"
   ]
  },
  {
   "cell_type": "code",
   "execution_count": 8,
   "metadata": {},
   "outputs": [
    {
     "name": "stdout",
     "output_type": "stream",
     "text": [
      "(1, 0, 0, 2, 0, 0, 5, 0, 0, 0, 0)\n"
     ]
    }
   ],
   "source": [
    "v = (1, 0, 2, 0, 5, 0, 0) #=> (1, 0, 0, 2, 0, 0, 5)\n",
    "f = lambda x: (x,0) if x == 0 else (x,)\n",
    "res = sum(map(f,v), ())\n",
    "\n",
    "print(res)"
   ]
  },
  {
   "cell_type": "code",
   "execution_count": 9,
   "metadata": {},
   "outputs": [
    {
     "name": "stdout",
     "output_type": "stream",
     "text": [
      "720\n"
     ]
    }
   ],
   "source": [
    "def factorial(n):\n",
    "    if n == 1: x = 1\n",
    "    else: x = n * factorial(n-1)\n",
    "    return x\n",
    "\n",
    "print(factorial(6))"
   ]
  },
  {
   "cell_type": "code",
   "execution_count": 10,
   "metadata": {},
   "outputs": [
    {
     "data": {
      "text/plain": [
       "720"
      ]
     },
     "execution_count": 10,
     "metadata": {},
     "output_type": "execute_result"
    }
   ],
   "source": [
    "#val fac: (Int, Int) => Int = (acc, c) => if (c == 1) acc else fac(acc * c, c - 1)\n",
    "fac = lambda c, acc=1: acc if c == 1 else fac(c - 1, acc * c)\n",
    "\n",
    "fac(6)"
   ]
  },
  {
   "cell_type": "code",
   "execution_count": 11,
   "metadata": {},
   "outputs": [
    {
     "name": "stdout",
     "output_type": "stream",
     "text": [
      "720\n"
     ]
    }
   ],
   "source": [
    "from expression import tailrec\n",
    "\n",
    "def fac(x: int) -> int: \n",
    "    @tailrec\n",
    "    def helper(x: int, acc: int = 1) -> int : \n",
    "        if x == 1: return acc\n",
    "        else: return helper(x - 1, x * acc)\n",
    "    return helper(x)\n",
    "\n",
    "print(fac(6))"
   ]
  },
  {
   "cell_type": "code",
   "execution_count": 12,
   "metadata": {},
   "outputs": [
    {
     "name": "stdout",
     "output_type": "stream",
     "text": [
      "0\n",
      "1\n",
      "1\n",
      "2\n",
      "3\n",
      "5\n",
      "8\n",
      "13\n",
      "21\n",
      "34\n",
      "55\n",
      "89\n",
      "144\n",
      "233\n",
      "377\n",
      "610\n",
      "987\n",
      "1597\n",
      "2584\n",
      "4181\n",
      "6765\n",
      "10946\n",
      "17711\n",
      "28657\n",
      "46368\n",
      "75025\n",
      "121393\n",
      "196418\n",
      "317811\n",
      "514229\n",
      "832040\n",
      "1346269\n",
      "2178309\n",
      "3524578\n",
      "5702887\n",
      "9227465\n",
      "14930352\n",
      "24157817\n",
      "39088169\n",
      "63245986\n",
      "102334155\n",
      "165580141\n",
      "267914296\n",
      "433494437\n",
      "701408733\n",
      "1134903170\n",
      "1836311903\n",
      "2971215073\n",
      "4807526976\n",
      "7778742049\n"
     ]
    }
   ],
   "source": [
    "def fib(n):\n",
    "    a, b = 0, 1\n",
    "    for _ in range(n):\n",
    "        yield a\n",
    "        a, b = b, a + b\n",
    "\n",
    "for x in fib(50):\n",
    "    print(x)"
   ]
  },
  {
   "cell_type": "code",
   "execution_count": 13,
   "metadata": {},
   "outputs": [
    {
     "name": "stdout",
     "output_type": "stream",
     "text": [
      "1\n",
      "1\n",
      "2\n",
      "3\n",
      "5\n",
      "8\n",
      "13\n",
      "21\n",
      "34\n",
      "55\n",
      "89\n",
      "144\n",
      "233\n",
      "377\n",
      "610\n",
      "987\n",
      "1597\n",
      "2584\n",
      "4181\n",
      "6765\n",
      "10946\n",
      "17711\n",
      "28657\n",
      "46368\n",
      "75025\n",
      "121393\n",
      "196418\n",
      "317811\n",
      "514229\n",
      "832040\n",
      "1346269\n",
      "2178309\n",
      "3524578\n",
      "5702887\n",
      "9227465\n",
      "14930352\n",
      "24157817\n",
      "39088169\n",
      "63245986\n",
      "102334155\n",
      "165580141\n",
      "267914296\n",
      "433494437\n",
      "701408733\n",
      "1134903170\n",
      "1836311903\n",
      "2971215073\n",
      "4807526976\n",
      "7778742049\n"
     ]
    }
   ],
   "source": [
    "from functools import lru_cache\n",
    "\n",
    "@lru_cache()\n",
    "def fibonacci(n):\n",
    "    if n==0: x = 0\n",
    "    elif n==1: x = 1\n",
    "    else: x = fibonacci(n-1) + fibonacci(n-2)\n",
    "    return x\n",
    "\n",
    "for x in range(1,50):\n",
    "    print(fibonacci(x))"
   ]
  }
 ],
 "metadata": {
  "kernelspec": {
   "display_name": ".venv",
   "language": "python",
   "name": "python3"
  },
  "language_info": {
   "codemirror_mode": {
    "name": "ipython",
    "version": 3
   },
   "file_extension": ".py",
   "mimetype": "text/x-python",
   "name": "python",
   "nbconvert_exporter": "python",
   "pygments_lexer": "ipython3",
   "version": "3.12.3"
  }
 },
 "nbformat": 4,
 "nbformat_minor": 2
}

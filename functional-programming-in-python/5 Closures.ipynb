{
 "cells": [
  {
   "cell_type": "markdown",
   "metadata": {},
   "source": [
    "What is a closure?\n",
    "• An outer function that contains an inner function.\n",
    "• The outer function has parameters and/or local variables.\n",
    "• The outer function returns the inner function as a function object."
   ]
  },
  {
   "cell_type": "code",
   "execution_count": 1,
   "metadata": {},
   "outputs": [
    {
     "name": "stdout",
     "output_type": "stream",
     "text": [
      "[hello]\n",
      "<<world>>\n"
     ]
    }
   ],
   "source": [
    "def make_printb(start, end):\n",
    "    def printb(s):\n",
    "        print(start + s + end)\n",
    "    return printb\n",
    "    \n",
    "# Main code\n",
    "sq = make_printb('[', ']')\n",
    "dbl_ang = make_printb('<<', '>>')\n",
    "sq('hello')\n",
    "dbl_ang('world')"
   ]
  },
  {
   "cell_type": "code",
   "execution_count": 2,
   "metadata": {},
   "outputs": [
    {
     "name": "stdout",
     "output_type": "stream",
     "text": [
      "[2, 6, 2, 0]\n"
     ]
    }
   ],
   "source": [
    "a = [2.2, 5.6, 1.9, 0.1]\n",
    "b = map(round, a) # map uses lazy iteration\n",
    "print(list(b)) # use the list function to turn the result into a list"
   ]
  },
  {
   "cell_type": "code",
   "execution_count": 4,
   "metadata": {},
   "outputs": [
    {
     "name": "stdout",
     "output_type": "stream",
     "text": [
      "[2, 4, 1, 7]\n",
      "[3, 5, 2, 8]\n"
     ]
    }
   ],
   "source": [
    "def addn(n):\n",
    "    def add(x):\n",
    "        return x + n\n",
    "    return add\n",
    "\n",
    "a = [1,3,0,6]\n",
    "b = map(addn(1), a)\n",
    "c = map(addn(2), a)\n",
    "print(list(b))\n",
    "print(list(c))"
   ]
  },
  {
   "cell_type": "code",
   "execution_count": 23,
   "metadata": {},
   "outputs": [
    {
     "name": "stdout",
     "output_type": "stream",
     "text": [
      "False\n"
     ]
    }
   ],
   "source": [
    "from dataclasses import dataclass\n",
    "\n",
    "@dataclass(frozen=True)\n",
    "class CustomerOrder:\n",
    "  order_id: int\n",
    "  customer_id: str\n",
    "  item_name: str\n",
    "\n",
    "order1 = CustomerOrder(1, '001', 'Guitar')\n",
    "order2 = CustomerOrder(1, '002', 'Guitar')\n",
    "print(order1 == order2)"
   ]
  },
  {
   "cell_type": "code",
   "execution_count": 40,
   "metadata": {},
   "outputs": [
    {
     "name": "stdout",
     "output_type": "stream",
     "text": [
      "0b1100001\n",
      "['0b1111000', '0b1111001', '0b1111010']\n"
     ]
    }
   ],
   "source": [
    "def compose(f, g):\n",
    "    def fn(x):\n",
    "        return f(g(x))\n",
    "    return fn\n",
    "\n",
    "codestr = compose(bin, ord)\n",
    "h =codestr('a')\n",
    "print(h)\n",
    "\n",
    "s = 'xyz'\n",
    "b = map(compose(bin, ord), s)\n",
    "print(list(b))"
   ]
  },
  {
   "cell_type": "code",
   "execution_count": 63,
   "metadata": {},
   "outputs": [
    {
     "name": "stdout",
     "output_type": "stream",
     "text": [
      "1.235\n",
      "1.23457\n",
      "1.235\n",
      "1.23457\n"
     ]
    }
   ],
   "source": [
    "class Format():\n",
    "    def __init__(self, precision):\n",
    "        self.p = precision\n",
    "\n",
    "    def __call__(self, x):\n",
    "        return '{:.{prec}f}'.format(x, prec=self.p)\n",
    "\n",
    "    def format(self, x):\n",
    "        return '{:.{prec}f}'.format(x, prec=self.p)\n",
    "\n",
    "format3 = Format(3)\n",
    "\n",
    "#format\n",
    "print(format3.format(1.2345678))\n",
    "print(Format(5).format(1.2345678))\n",
    "\n",
    "#__call__\n",
    "print(format3(1.2345678))\n",
    "print(Format(5)(1.2345678))"
   ]
  },
  {
   "cell_type": "code",
   "execution_count": 61,
   "metadata": {},
   "outputs": [
    {
     "name": "stdout",
     "output_type": "stream",
     "text": [
      "Dennis\n",
      "55\n",
      "Dennis(55)\n",
      "Hello my name is: Dennis\n"
     ]
    }
   ],
   "source": [
    "class Person:\n",
    "    def __init__(self, name, age):\n",
    "        self.name = name\n",
    "        self.age = age\n",
    "\n",
    "    def __str__(self):\n",
    "        return f\"{self.name}({self.age})\"\n",
    "    \n",
    "    def myfunc(self):\n",
    "        return f\"Hello my name is: {self.name}\"\n",
    "\n",
    "p1 = Person(\"Dennis\", 55)\n",
    "print(p1.name)\n",
    "print(p1.age)\n",
    "print(p1)\n",
    "print(p1.myfunc())"
   ]
  },
  {
   "cell_type": "code",
   "execution_count": 62,
   "metadata": {},
   "outputs": [
    {
     "name": "stdout",
     "output_type": "stream",
     "text": [
      "1.235\n",
      "1.23457\n"
     ]
    }
   ],
   "source": [
    "def formatn(precision):\n",
    "    def format(x):\n",
    "        return '{:.{prec}f}'.format(x, prec=precision)\n",
    "    return format\n",
    "\n",
    "format3 = formatn(3)\n",
    "print(format3(1.2345678))\n",
    "print(formatn(5)(1.2345678))"
   ]
  }
 ],
 "metadata": {
  "kernelspec": {
   "display_name": ".venv",
   "language": "python",
   "name": "python3"
  },
  "language_info": {
   "codemirror_mode": {
    "name": "ipython",
    "version": 3
   },
   "file_extension": ".py",
   "mimetype": "text/x-python",
   "name": "python",
   "nbconvert_exporter": "python",
   "pygments_lexer": "ipython3",
   "version": "3.12.3"
  }
 },
 "nbformat": 4,
 "nbformat_minor": 2
}
